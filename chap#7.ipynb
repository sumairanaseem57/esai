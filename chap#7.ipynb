{
 "cells": [
  {
   "cell_type": "markdown",
   "id": "62668870",
   "metadata": {},
   "source": [
    "## Chapter 07"
   ]
  },
  {
   "cell_type": "code",
   "execution_count": 2,
   "id": "1fcf85bd",
   "metadata": {},
   "outputs": [
    {
     "name": "stdout",
     "output_type": "stream",
     "text": [
      "<_io.TextIOWrapper name='d.txt' mode='r' encoding='cp1252'>\n"
     ]
    }
   ],
   "source": [
    "f=open('d.txt','r')\n",
    "print(f)\n",
    "f.close()"
   ]
  },
  {
   "cell_type": "code",
   "execution_count": 4,
   "id": "58ff9a5a",
   "metadata": {},
   "outputs": [
    {
     "name": "stdout",
     "output_type": "stream",
     "text": [
      "hello\n",
      "world\n"
     ]
    }
   ],
   "source": [
    "t='hello\\nworld'\n",
    "print(t)"
   ]
  },
  {
   "cell_type": "code",
   "execution_count": 5,
   "id": "a6e9941d",
   "metadata": {},
   "outputs": [
    {
     "data": {
      "text/plain": [
       "11"
      ]
     },
     "execution_count": 5,
     "metadata": {},
     "output_type": "execute_result"
    }
   ],
   "source": [
    "len(t)"
   ]
  },
  {
   "cell_type": "code",
   "execution_count": 6,
   "id": "8afd9051",
   "metadata": {},
   "outputs": [
    {
     "name": "stdout",
     "output_type": "stream",
     "text": [
      "line count: 1\n",
      "line count: 2\n",
      "line count: 3\n",
      "line count: 4\n",
      "line count: 5\n"
     ]
    }
   ],
   "source": [
    "#counting lines\n",
    "f=open(\"d.txt\",\"r\")\n",
    "count=0\n",
    "for line in f:\n",
    "    count=count+1\n",
    "    print(\"line count:\",count)"
   ]
  },
  {
   "cell_type": "code",
   "execution_count": 13,
   "id": "947de6d5",
   "metadata": {},
   "outputs": [
    {
     "name": "stdout",
     "output_type": "stream",
     "text": [
      "85\n",
      "i'm ewytreiwtwei\n",
      "cgv\n"
     ]
    }
   ],
   "source": [
    "#reading the whole file\n",
    "f=open(\"d.txt\")\n",
    "int=f.read()\n",
    "print(len(int))\n",
    "print(int[:20])"
   ]
  },
  {
   "cell_type": "code",
   "execution_count": 14,
   "id": "27f4b4ad",
   "metadata": {},
   "outputs": [
    {
     "name": "stdout",
     "output_type": "stream",
     "text": [
      "cgvdujfgcwefyuwe  fhbyudgefyug]\n",
      "\n"
     ]
    }
   ],
   "source": [
    "#searching in files\n",
    "f=open(\"d.txt\")\n",
    "for line in f:\n",
    "    if line.startswith('cgv'):\n",
    "        print(line)"
   ]
  },
  {
   "cell_type": "code",
   "execution_count": 15,
   "id": "511cfb21",
   "metadata": {},
   "outputs": [
    {
     "name": "stdout",
     "output_type": "stream",
     "text": [
      "cgvdujfgcwefyuwe  fhbyudgefyug]\n",
      "\n"
     ]
    }
   ],
   "source": [
    "#searching in files(fixed)\n",
    "f=open(\"d.txt\")\n",
    "for line in f:\n",
    "    line=line.lstrip()\n",
    "    if line.startswith('cgv'):\n",
    "        print(line)"
   ]
  },
  {
   "cell_type": "code",
   "execution_count": 17,
   "id": "b8964535",
   "metadata": {},
   "outputs": [
    {
     "name": "stdout",
     "output_type": "stream",
     "text": [
      "i'm ewytreiwtwei\n",
      "\n",
      "\n",
      "eghvfhedjhebf\n",
      "\n",
      "dyhegvfh 'nd bcygfyu\n",
      "\n"
     ]
    }
   ],
   "source": [
    "#using continue keyword\n",
    "f=open(\"d.txt\")\n",
    "for line in f:\n",
    "    line=line.lstrip()\n",
    "    if line.startswith('cgv'):\n",
    "        continue\n",
    "    print(line)"
   ]
  },
  {
   "cell_type": "code",
   "execution_count": 23,
   "id": "409d6b29",
   "metadata": {},
   "outputs": [],
   "source": [
    "f=open(\"d.txt\")\n",
    "for line in f:\n",
    "    line=line.rstrip()\n",
    "    if not 'nd' in line :\n",
    "        continue\n",
    "    print(line)"
   ]
  },
  {
   "cell_type": "code",
   "execution_count": 29,
   "id": "9f2be478",
   "metadata": {},
   "outputs": [
    {
     "name": "stdout",
     "output_type": "stream",
     "text": [
      "Enter the file name: d.txt\n",
      "There were 0 cgv lines in d.txt\n"
     ]
    }
   ],
   "source": [
    "#input the name of the file\n",
    "fname = input('Enter the file name: ')\n",
    "fhand = open(fname)\n",
    "count = 0\n",
    "for line in fhand:\n",
    "    if line.startswith('dyhegvfh'):\n",
    "        count = count + 1\n",
    "print('There were', count, 'cgv lines in', fname)"
   ]
  },
  {
   "cell_type": "code",
   "execution_count": 31,
   "id": "dfbfa89b",
   "metadata": {},
   "outputs": [
    {
     "name": "stdout",
     "output_type": "stream",
     "text": [
      "Enter the file name: d,txt\n",
      "File cannot be opened: d,txt\n",
      "There were 0 subject lines in d,txt\n"
     ]
    }
   ],
   "source": [
    "fname = input('Enter the file name: ')\n",
    "try:\n",
    "    fhand = open(fname)\n",
    "except:\n",
    "    print('File cannot be opened:', fname)\n",
    "    quit()\n",
    "count = 0\n",
    "for line in fhand:\n",
    "    if line.startswith('cgv:') :\n",
    "        count = count + 1\n",
    "print('There were', count, 'subject lines in', fname)\n"
   ]
  },
  {
   "cell_type": "code",
   "execution_count": null,
   "id": "ba322f71",
   "metadata": {},
   "outputs": [],
   "source": []
  }
 ],
 "metadata": {
  "kernelspec": {
   "display_name": "Python 3 (ipykernel)",
   "language": "python",
   "name": "python3"
  },
  "language_info": {
   "codemirror_mode": {
    "name": "ipython",
    "version": 3
   },
   "file_extension": ".py",
   "mimetype": "text/x-python",
   "name": "python",
   "nbconvert_exporter": "python",
   "pygments_lexer": "ipython3",
   "version": "3.9.13"
  }
 },
 "nbformat": 4,
 "nbformat_minor": 5
}
