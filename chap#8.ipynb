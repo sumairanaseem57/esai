{
 "cells": [
  {
   "cell_type": "markdown",
   "id": "fd18b6cc",
   "metadata": {},
   "source": [
    "# ChapterNo.8"
   ]
  },
  {
   "cell_type": "markdown",
   "id": "ea671a53",
   "metadata": {},
   "source": [
    "# Python lists"
   ]
  },
  {
   "cell_type": "markdown",
   "id": "3dd81572",
   "metadata": {},
   "source": [
    "## Example1"
   ]
  },
  {
   "cell_type": "code",
   "execution_count": 2,
   "id": "68c67beb",
   "metadata": {},
   "outputs": [
    {
     "name": "stdout",
     "output_type": "stream",
     "text": [
      "1\n",
      "2\n",
      "3\n",
      "4\n",
      "5\n",
      "blastoff\n"
     ]
    }
   ],
   "source": [
    "for i in [1,2,3,4,5]:\n",
    "    print(i)\n",
    "print(\"blastoff\")"
   ]
  },
  {
   "cell_type": "markdown",
   "id": "5c333e2b",
   "metadata": {},
   "source": [
    "## Example2"
   ]
  },
  {
   "cell_type": "code",
   "execution_count": 4,
   "id": "2b4315d8",
   "metadata": {},
   "outputs": [
    {
     "name": "stdout",
     "output_type": "stream",
     "text": [
      "you'r my strengh eman\n",
      "you'r my strengh amna\n",
      "you'r my strengh faran\n",
      "you'r my strengh hassan\n",
      "you'r my strengh faizan\n",
      "done\n"
     ]
    }
   ],
   "source": [
    "friends=['eman','amna','faran','hassan','faizan']\n",
    "for friend in friends:\n",
    "    print(\"you'r my strengh\",friend)\n",
    "print(\"done\")"
   ]
  },
  {
   "cell_type": "markdown",
   "id": "b875fa09",
   "metadata": {},
   "source": [
    "## Example3"
   ]
  },
  {
   "cell_type": "code",
   "execution_count": 5,
   "id": "aca8dfcd",
   "metadata": {},
   "outputs": [
    {
     "name": "stdout",
     "output_type": "stream",
     "text": [
      "amna\n"
     ]
    }
   ],
   "source": [
    "friends=['eman','amna','faran','hassan','faizan']\n",
    "print(friends[1])"
   ]
  },
  {
   "cell_type": "code",
   "execution_count": 6,
   "id": "bb813052",
   "metadata": {},
   "outputs": [
    {
     "ename": "TypeError",
     "evalue": "'str' object does not support item assignment",
     "output_type": "error",
     "traceback": [
      "\u001b[1;31m---------------------------------------------------------------------------\u001b[0m",
      "\u001b[1;31mTypeError\u001b[0m                                 Traceback (most recent call last)",
      "\u001b[1;32m~\\AppData\\Local\\Temp\\ipykernel_8880\\3014814291.py\u001b[0m in \u001b[0;36m<module>\u001b[1;34m\u001b[0m\n\u001b[0;32m      1\u001b[0m \u001b[0mfruit\u001b[0m\u001b[1;33m=\u001b[0m\u001b[1;34m\"Banana\"\u001b[0m\u001b[1;33m\u001b[0m\u001b[1;33m\u001b[0m\u001b[0m\n\u001b[1;32m----> 2\u001b[1;33m \u001b[0mfruit\u001b[0m\u001b[1;33m[\u001b[0m\u001b[1;36m0\u001b[0m\u001b[1;33m]\u001b[0m\u001b[1;33m=\u001b[0m\u001b[1;34m'b'\u001b[0m\u001b[1;33m\u001b[0m\u001b[1;33m\u001b[0m\u001b[0m\n\u001b[0m",
      "\u001b[1;31mTypeError\u001b[0m: 'str' object does not support item assignment"
     ]
    }
   ],
   "source": [
    "fruit=\"Banana\"\n",
    "fruit[0]='b'"
   ]
  },
  {
   "cell_type": "code",
   "execution_count": 7,
   "id": "3abaf42c",
   "metadata": {},
   "outputs": [
    {
     "name": "stdout",
     "output_type": "stream",
     "text": [
      "banana\n"
     ]
    }
   ],
   "source": [
    "x=fruit.lower()\n",
    "print(x)"
   ]
  },
  {
   "cell_type": "code",
   "execution_count": 8,
   "id": "1d1dfd1f",
   "metadata": {},
   "outputs": [
    {
     "name": "stdout",
     "output_type": "stream",
     "text": [
      "[2, 12, 24, 46, 67]\n"
     ]
    }
   ],
   "source": [
    "lotto=[2,12,24,46,67]\n",
    "print(lotto)"
   ]
  },
  {
   "cell_type": "code",
   "execution_count": 10,
   "id": "af5d2bfb",
   "metadata": {},
   "outputs": [
    {
     "name": "stdout",
     "output_type": "stream",
     "text": [
      "[2, 12, 24, 67, 67]\n"
     ]
    }
   ],
   "source": [
    "lotto[3]=67\n",
    "print(lotto)"
   ]
  },
  {
   "cell_type": "markdown",
   "id": "4b780719",
   "metadata": {},
   "source": [
    "## Example4"
   ]
  },
  {
   "cell_type": "code",
   "execution_count": 11,
   "id": "8c915baf",
   "metadata": {},
   "outputs": [
    {
     "name": "stdout",
     "output_type": "stream",
     "text": [
      "range(0, 4)\n"
     ]
    }
   ],
   "source": [
    "# using range function\n",
    "print(range(4))"
   ]
  },
  {
   "cell_type": "code",
   "execution_count": 13,
   "id": "818140eb",
   "metadata": {},
   "outputs": [
    {
     "data": {
      "text/plain": [
       "4"
      ]
     },
     "execution_count": 13,
     "metadata": {},
     "output_type": "execute_result"
    }
   ],
   "source": [
    "friends=['amna','hassan','faizan','faran']\n",
    "len(friends)"
   ]
  },
  {
   "cell_type": "code",
   "execution_count": 14,
   "id": "4008a7f9",
   "metadata": {},
   "outputs": [
    {
     "name": "stdout",
     "output_type": "stream",
     "text": [
      "range(0, 4)\n"
     ]
    }
   ],
   "source": [
    "print(range(len(friends)))"
   ]
  },
  {
   "cell_type": "markdown",
   "id": "9300161d",
   "metadata": {},
   "source": [
    "## Example5"
   ]
  },
  {
   "cell_type": "code",
   "execution_count": 17,
   "id": "31611573",
   "metadata": {},
   "outputs": [
    {
     "name": "stdout",
     "output_type": "stream",
     "text": [
      "happy new year: amna\n",
      "happy new year: hassan\n",
      "happy new year: faizan\n",
      "happy new year: faran\n",
      "happy new years: amna\n",
      "happy new years: hassan\n",
      "happy new years: faizan\n",
      "happy new years: faran\n"
     ]
    }
   ],
   "source": [
    "for friend in friends:\n",
    "    print(\"happy new year:\",friend)\n",
    "for i in range(len(friends)):\n",
    "    friend=friends[i]\n",
    "    print(\"happy new years:\",friend)"
   ]
  },
  {
   "cell_type": "markdown",
   "id": "0425b974",
   "metadata": {},
   "source": [
    "## Example6"
   ]
  },
  {
   "cell_type": "code",
   "execution_count": 18,
   "id": "70cf2339",
   "metadata": {},
   "outputs": [
    {
     "data": {
      "text/plain": [
       "[2, 3, 4]"
      ]
     },
     "execution_count": 18,
     "metadata": {},
     "output_type": "execute_result"
    }
   ],
   "source": [
    "#Slicing\n",
    "t=[1,2,3,4,5,6,7]\n",
    "t[1:4]"
   ]
  },
  {
   "cell_type": "code",
   "execution_count": 19,
   "id": "3a3491dd",
   "metadata": {},
   "outputs": [
    {
     "data": {
      "text/plain": [
       "[1, 2, 3, 4]"
      ]
     },
     "execution_count": 19,
     "metadata": {},
     "output_type": "execute_result"
    }
   ],
   "source": [
    "t[:4]"
   ]
  },
  {
   "cell_type": "code",
   "execution_count": 20,
   "id": "3debd13c",
   "metadata": {},
   "outputs": [
    {
     "data": {
      "text/plain": [
       "[5, 6, 7]"
      ]
     },
     "execution_count": 20,
     "metadata": {},
     "output_type": "execute_result"
    }
   ],
   "source": [
    "t[4:]"
   ]
  },
  {
   "cell_type": "code",
   "execution_count": 21,
   "id": "88425c0c",
   "metadata": {},
   "outputs": [
    {
     "data": {
      "text/plain": [
       "[1, 2, 3, 4, 5, 6, 7]"
      ]
     },
     "execution_count": 21,
     "metadata": {},
     "output_type": "execute_result"
    }
   ],
   "source": [
    "t[:]"
   ]
  },
  {
   "cell_type": "code",
   "execution_count": 22,
   "id": "34297252",
   "metadata": {},
   "outputs": [
    {
     "name": "stdout",
     "output_type": "stream",
     "text": [
      "[1, 23, 34, 5, 22, 33, 44, 55]\n"
     ]
    }
   ],
   "source": [
    "a=[1,23,34,5]\n",
    "b=[22,33,44,55]\n",
    "c=a+b\n",
    "print(c)"
   ]
  },
  {
   "cell_type": "markdown",
   "id": "33861864",
   "metadata": {},
   "source": [
    "## Example7"
   ]
  },
  {
   "cell_type": "code",
   "execution_count": 23,
   "id": "28a55c38",
   "metadata": {},
   "outputs": [
    {
     "data": {
      "text/plain": [
       "list"
      ]
     },
     "execution_count": 23,
     "metadata": {},
     "output_type": "execute_result"
    }
   ],
   "source": [
    "#list of methods in a list\n",
    "a=[1,2,34,66,7,4]\n",
    "type(a)"
   ]
  },
  {
   "cell_type": "code",
   "execution_count": 24,
   "id": "58af6d15",
   "metadata": {},
   "outputs": [
    {
     "data": {
      "text/plain": [
       "['__add__',\n",
       " '__class__',\n",
       " '__class_getitem__',\n",
       " '__contains__',\n",
       " '__delattr__',\n",
       " '__delitem__',\n",
       " '__dir__',\n",
       " '__doc__',\n",
       " '__eq__',\n",
       " '__format__',\n",
       " '__ge__',\n",
       " '__getattribute__',\n",
       " '__getitem__',\n",
       " '__gt__',\n",
       " '__hash__',\n",
       " '__iadd__',\n",
       " '__imul__',\n",
       " '__init__',\n",
       " '__init_subclass__',\n",
       " '__iter__',\n",
       " '__le__',\n",
       " '__len__',\n",
       " '__lt__',\n",
       " '__mul__',\n",
       " '__ne__',\n",
       " '__new__',\n",
       " '__reduce__',\n",
       " '__reduce_ex__',\n",
       " '__repr__',\n",
       " '__reversed__',\n",
       " '__rmul__',\n",
       " '__setattr__',\n",
       " '__setitem__',\n",
       " '__sizeof__',\n",
       " '__str__',\n",
       " '__subclasshook__',\n",
       " 'append',\n",
       " 'clear',\n",
       " 'copy',\n",
       " 'count',\n",
       " 'extend',\n",
       " 'index',\n",
       " 'insert',\n",
       " 'pop',\n",
       " 'remove',\n",
       " 'reverse',\n",
       " 'sort']"
      ]
     },
     "execution_count": 24,
     "metadata": {},
     "output_type": "execute_result"
    }
   ],
   "source": [
    "dir(a)"
   ]
  },
  {
   "cell_type": "markdown",
   "id": "9b8efb9d",
   "metadata": {},
   "source": [
    "## Example8"
   ]
  },
  {
   "cell_type": "code",
   "execution_count": 28,
   "id": "784365c0",
   "metadata": {},
   "outputs": [
    {
     "name": "stdout",
     "output_type": "stream",
     "text": [
      "['books', 'pencle']\n"
     ]
    }
   ],
   "source": [
    "stuff=list()\n",
    "type(stuff)\n",
    "stuff.append(\"books\")\n",
    "stuff.append(\"pencle\")\n",
    "print(stuff)"
   ]
  },
  {
   "cell_type": "code",
   "execution_count": 29,
   "id": "4ec3a02d",
   "metadata": {},
   "outputs": [],
   "source": [
    "stuff.append(\"paper board\")"
   ]
  },
  {
   "cell_type": "code",
   "execution_count": 30,
   "id": "2ea28fe7",
   "metadata": {},
   "outputs": [
    {
     "name": "stdout",
     "output_type": "stream",
     "text": [
      "['books', 'pencle', 'paper board']\n"
     ]
    }
   ],
   "source": [
    "print(stuff)"
   ]
  },
  {
   "cell_type": "markdown",
   "id": "8497fbde",
   "metadata": {},
   "source": [
    "## Example9"
   ]
  },
  {
   "cell_type": "code",
   "execution_count": 31,
   "id": "1f550abd",
   "metadata": {},
   "outputs": [
    {
     "name": "stdout",
     "output_type": "stream",
     "text": [
      "[2, 3, 5, 5, 44, 44, 77]\n"
     ]
    }
   ],
   "source": [
    "# applying the sort function\n",
    "a=[3,44,5,2,44,5,77]\n",
    "a.sort()\n",
    "print(a)"
   ]
  },
  {
   "cell_type": "markdown",
   "id": "9783cb77",
   "metadata": {},
   "source": [
    "## Example10"
   ]
  },
  {
   "cell_type": "code",
   "execution_count": 37,
   "id": "579ca9ad",
   "metadata": {},
   "outputs": [
    {
     "name": "stdout",
     "output_type": "stream",
     "text": [
      "65\n",
      "2\n",
      "5\n",
      "178\n",
      "35.6\n"
     ]
    }
   ],
   "source": [
    "#build in functions \n",
    "a=[22,34,65,2,55]\n",
    "print(max(a))\n",
    "print(min(a))\n",
    "print(len(a))\n",
    "print(sum(a))\n",
    "print(sum(a)/len(a))"
   ]
  },
  {
   "cell_type": "markdown",
   "id": "c2796ac5",
   "metadata": {},
   "source": [
    "## Example11"
   ]
  },
  {
   "cell_type": "code",
   "execution_count": 9,
   "id": "0a89fbeb",
   "metadata": {},
   "outputs": [
    {
     "name": "stdout",
     "output_type": "stream",
     "text": [
      "enter a number: 77\n",
      "enter a number: 37\n",
      "enter a number: 376\n",
      "enter a number: done\n",
      "Avarage 163.33333333333334\n"
     ]
    }
   ],
   "source": [
    "#finding the average \n",
    "total=0\n",
    "count=0\n",
    "while True:\n",
    "    inp=input(\"enter a number: \")\n",
    "    if inp=='done':break\n",
    "    value=float(inp)\n",
    "    total=total+value\n",
    "    count=count+1\n",
    "avarage=total/count\n",
    "print(\"Avarage\",avarage)\n",
    "        "
   ]
  },
  {
   "cell_type": "markdown",
   "id": "305b43ce",
   "metadata": {},
   "source": [
    "## Example12"
   ]
  },
  {
   "cell_type": "code",
   "execution_count": 44,
   "id": "1dbd5e86",
   "metadata": {},
   "outputs": [
    {
     "name": "stdout",
     "output_type": "stream",
     "text": [
      "['my', 'name', 'is', 'eman']\n"
     ]
    }
   ],
   "source": [
    "#strings and lists are best friends\n",
    "abc=\"my name is eman\"\n",
    "stuff=abc.split()\n",
    "print(stuff)"
   ]
  },
  {
   "cell_type": "code",
   "execution_count": 45,
   "id": "edff71c0",
   "metadata": {},
   "outputs": [
    {
     "data": {
      "text/plain": [
       "4"
      ]
     },
     "execution_count": 45,
     "metadata": {},
     "output_type": "execute_result"
    }
   ],
   "source": [
    "len(stuff)"
   ]
  },
  {
   "cell_type": "code",
   "execution_count": 47,
   "id": "05f01139",
   "metadata": {},
   "outputs": [
    {
     "data": {
      "text/plain": [
       "'is'"
      ]
     },
     "execution_count": 47,
     "metadata": {},
     "output_type": "execute_result"
    }
   ],
   "source": [
    "stuff[2]"
   ]
  },
  {
   "cell_type": "markdown",
   "id": "7339f4a4",
   "metadata": {},
   "source": [
    "## Example13"
   ]
  },
  {
   "cell_type": "code",
   "execution_count": 50,
   "id": "92542cd1",
   "metadata": {},
   "outputs": [
    {
     "name": "stdout",
     "output_type": "stream",
     "text": [
      "['a', 'lot', 'of', 'space']\n"
     ]
    }
   ],
   "source": [
    "#using split method\n",
    "list=\"a lot of      space\"\n",
    "a=list.split()\n",
    "print(a)"
   ]
  },
  {
   "cell_type": "code",
   "execution_count": 2,
   "id": "844e91d1",
   "metadata": {},
   "outputs": [
    {
     "name": "stdout",
     "output_type": "stream",
     "text": [
      "['eman;mehmood;is;a;good;girl']\n"
     ]
    }
   ],
   "source": [
    "string=\"eman;mehmood;is;a;good;girl\"\n",
    "b=string.split()\n",
    "print(b)"
   ]
  },
  {
   "cell_type": "markdown",
   "id": "5c41d1d7",
   "metadata": {},
   "source": [
    "## Example14"
   ]
  },
  {
   "cell_type": "code",
   "execution_count": 3,
   "id": "d39c76af",
   "metadata": {},
   "outputs": [
    {
     "name": "stdout",
     "output_type": "stream",
     "text": [
      "['From', 'stephen.marquard@uct.ac.za', 'Sat', 'Jan', '5', '09:14:16', '2008']\n"
     ]
    }
   ],
   "source": [
    "#double spliting\n",
    "line='From stephen.marquard@uct.ac.za Sat Jan 5 09:14:16 2008'\n",
    "words=line.split()\n",
    "print(words)"
   ]
  },
  {
   "cell_type": "code",
   "execution_count": 5,
   "id": "ae62ddee",
   "metadata": {},
   "outputs": [
    {
     "name": "stdout",
     "output_type": "stream",
     "text": [
      "stephen.marquard@uct.ac.za\n"
     ]
    }
   ],
   "source": [
    "email=words[1]\n",
    "print(email)"
   ]
  },
  {
   "cell_type": "code",
   "execution_count": 7,
   "id": "bdc37031",
   "metadata": {},
   "outputs": [
    {
     "name": "stdout",
     "output_type": "stream",
     "text": [
      "['stephen.marquard', 'uct.ac.za']\n"
     ]
    }
   ],
   "source": [
    "pieces=email.split('@')\n",
    "print(pieces)"
   ]
  },
  {
   "cell_type": "code",
   "execution_count": 8,
   "id": "bc2a8b04",
   "metadata": {},
   "outputs": [
    {
     "name": "stdout",
     "output_type": "stream",
     "text": [
      "uct.ac.za\n"
     ]
    }
   ],
   "source": [
    "print(pieces[1])"
   ]
  },
  {
   "cell_type": "code",
   "execution_count": null,
   "id": "47db7e1d",
   "metadata": {},
   "outputs": [],
   "source": []
  }
 ],
 "metadata": {
  "kernelspec": {
   "display_name": "Python 3 (ipykernel)",
   "language": "python",
   "name": "python3"
  },
  "language_info": {
   "codemirror_mode": {
    "name": "ipython",
    "version": 3
   },
   "file_extension": ".py",
   "mimetype": "text/x-python",
   "name": "python",
   "nbconvert_exporter": "python",
   "pygments_lexer": "ipython3",
   "version": "3.9.13"
  }
 },
 "nbformat": 4,
 "nbformat_minor": 5
}
