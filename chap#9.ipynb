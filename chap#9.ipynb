{
 "cells": [
  {
   "cell_type": "markdown",
   "id": "e89e06b1",
   "metadata": {},
   "source": [
    "# ChapterNo.9\n",
    "# Dictionaries"
   ]
  },
  {
   "cell_type": "markdown",
   "id": "58c9f77f",
   "metadata": {},
   "source": [
    "## Example1"
   ]
  },
  {
   "cell_type": "code",
   "execution_count": 1,
   "id": "becf4b8a",
   "metadata": {},
   "outputs": [
    {
     "name": "stdout",
     "output_type": "stream",
     "text": [
      "{'money': 123, 'candies': 22, 'perfumes': 2}\n"
     ]
    }
   ],
   "source": [
    "purse=dict()\n",
    "purse['money']=123\n",
    "purse['candies']=22\n",
    "purse['perfumes']=2\n",
    "print(purse)"
   ]
  },
  {
   "cell_type": "code",
   "execution_count": 2,
   "id": "b3348ef1",
   "metadata": {},
   "outputs": [
    {
     "name": "stdout",
     "output_type": "stream",
     "text": [
      "22\n"
     ]
    }
   ],
   "source": [
    "print(purse['candies'])"
   ]
  },
  {
   "cell_type": "code",
   "execution_count": 3,
   "id": "00f95c9f",
   "metadata": {},
   "outputs": [],
   "source": [
    "purse['candies']=purse['candies']+2"
   ]
  },
  {
   "cell_type": "code",
   "execution_count": 4,
   "id": "f0ed12b5",
   "metadata": {},
   "outputs": [
    {
     "name": "stdout",
     "output_type": "stream",
     "text": [
      "24\n"
     ]
    }
   ],
   "source": [
    "print(purse['candies'])"
   ]
  },
  {
   "cell_type": "markdown",
   "id": "bc83eda7",
   "metadata": {},
   "source": [
    "## Example2"
   ]
  },
  {
   "cell_type": "code",
   "execution_count": 5,
   "id": "e7772158",
   "metadata": {},
   "outputs": [
    {
     "name": "stdout",
     "output_type": "stream",
     "text": [
      "[21, 34]\n"
     ]
    }
   ],
   "source": [
    "#difference between lists and dictionaries\n",
    "#lists\n",
    "a=list()\n",
    "a.append(21)\n",
    "a.append(34)\n",
    "print(a)"
   ]
  },
  {
   "cell_type": "code",
   "execution_count": 6,
   "id": "62c4f88b",
   "metadata": {},
   "outputs": [
    {
     "name": "stdout",
     "output_type": "stream",
     "text": [
      "[23, 34]\n"
     ]
    }
   ],
   "source": [
    "a[0]=23\n",
    "print(a)"
   ]
  },
  {
   "cell_type": "code",
   "execution_count": 7,
   "id": "b94ef737",
   "metadata": {},
   "outputs": [
    {
     "name": "stdout",
     "output_type": "stream",
     "text": [
      "{'age': 21, 'courses': 189}\n"
     ]
    }
   ],
   "source": [
    "#dictionary\n",
    "d=dict()\n",
    "d['age']=21\n",
    "d['courses']=189\n",
    "print(d)"
   ]
  },
  {
   "cell_type": "code",
   "execution_count": 8,
   "id": "9880e5ea",
   "metadata": {},
   "outputs": [
    {
     "name": "stdout",
     "output_type": "stream",
     "text": [
      "{'age': 23, 'courses': 189}\n"
     ]
    }
   ],
   "source": [
    "d['age']=23\n",
    "print(d)"
   ]
  },
  {
   "cell_type": "markdown",
   "id": "77a083ea",
   "metadata": {},
   "source": [
    "## Example2"
   ]
  },
  {
   "cell_type": "code",
   "execution_count": 19,
   "id": "757041b0",
   "metadata": {},
   "outputs": [
    {
     "ename": "KeyError",
     "evalue": "'cva'",
     "output_type": "error",
     "traceback": [
      "\u001b[1;31m---------------------------------------------------------------------------\u001b[0m",
      "\u001b[1;31mKeyError\u001b[0m                                  Traceback (most recent call last)",
      "\u001b[1;32m~\\AppData\\Local\\Temp\\ipykernel_6156\\387327806.py\u001b[0m in \u001b[0;36m<module>\u001b[1;34m\u001b[0m\n\u001b[0;32m      1\u001b[0m \u001b[1;31m#dictionary traceback error\u001b[0m\u001b[1;33m\u001b[0m\u001b[1;33m\u001b[0m\u001b[0m\n\u001b[0;32m      2\u001b[0m \u001b[0mc\u001b[0m\u001b[1;33m=\u001b[0m\u001b[0mdict\u001b[0m\u001b[1;33m(\u001b[0m\u001b[1;33m)\u001b[0m\u001b[1;33m\u001b[0m\u001b[1;33m\u001b[0m\u001b[0m\n\u001b[1;32m----> 3\u001b[1;33m \u001b[0mprint\u001b[0m\u001b[1;33m(\u001b[0m\u001b[0mc\u001b[0m\u001b[1;33m[\u001b[0m\u001b[1;34m'cva'\u001b[0m\u001b[1;33m]\u001b[0m\u001b[1;33m)\u001b[0m\u001b[1;33m\u001b[0m\u001b[1;33m\u001b[0m\u001b[0m\n\u001b[0m",
      "\u001b[1;31mKeyError\u001b[0m: 'cva'"
     ]
    }
   ],
   "source": [
    "#dictionary traceback error\n",
    "c=dict()\n",
    "print(c['cva'])\n"
   ]
  },
  {
   "cell_type": "code",
   "execution_count": 20,
   "id": "e9117470",
   "metadata": {},
   "outputs": [
    {
     "data": {
      "text/plain": [
       "False"
      ]
     },
     "execution_count": 20,
     "metadata": {},
     "output_type": "execute_result"
    }
   ],
   "source": [
    "'cva' in c"
   ]
  },
  {
   "cell_type": "markdown",
   "id": "74c3198c",
   "metadata": {},
   "source": [
    "## Example3"
   ]
  },
  {
   "cell_type": "code",
   "execution_count": 21,
   "id": "750d1abc",
   "metadata": {},
   "outputs": [
    {
     "name": "stdout",
     "output_type": "stream",
     "text": [
      "{'eman': 1, 'amna': 1, 'faran': 1, 'hassan': 1, 'faizan': 1}\n"
     ]
    }
   ],
   "source": [
    "counts=dict()\n",
    "names=['eman','amna','faran','hassan','faizan']\n",
    "for name in names:\n",
    "    if name not in counts:\n",
    "        counts[name]=1\n",
    "    else:\n",
    "        counts[name]=counts[name]+1\n",
    "print(counts)"
   ]
  },
  {
   "cell_type": "markdown",
   "id": "1a58458c",
   "metadata": {},
   "source": [
    "## Example4"
   ]
  },
  {
   "cell_type": "code",
   "execution_count": 22,
   "id": "7c5a5de1",
   "metadata": {},
   "outputs": [
    {
     "name": "stdout",
     "output_type": "stream",
     "text": [
      "1\n"
     ]
    }
   ],
   "source": [
    "#get method in dictionry\n",
    "if name in counts:\n",
    "    x=counts[name]\n",
    "else:\n",
    "    x=0\n",
    "print(x)"
   ]
  },
  {
   "cell_type": "code",
   "execution_count": 23,
   "id": "eb6a8ef2",
   "metadata": {},
   "outputs": [
    {
     "name": "stdout",
     "output_type": "stream",
     "text": [
      "1\n"
     ]
    }
   ],
   "source": [
    "x=counts.get(name,0)\n",
    "print(x)"
   ]
  },
  {
   "cell_type": "markdown",
   "id": "c29de208",
   "metadata": {},
   "source": [
    "## Example5"
   ]
  },
  {
   "cell_type": "code",
   "execution_count": 26,
   "id": "3421d8cd",
   "metadata": {},
   "outputs": [
    {
     "name": "stdout",
     "output_type": "stream",
     "text": [
      "{'eman': 3, 'amna': 1, 'faran': 1, 'hassan': 2, 'faizan': 1}\n"
     ]
    }
   ],
   "source": [
    "counts=dict()\n",
    "names=['eman','amna','faran','hassan','faizan','eman','eman','hassan']\n",
    "for name in names:\n",
    "    counts[name]=counts.get(name,0)+1\n",
    "print(counts)"
   ]
  },
  {
   "cell_type": "markdown",
   "id": "8b77f25b",
   "metadata": {},
   "source": [
    "## Example6"
   ]
  },
  {
   "cell_type": "code",
   "execution_count": 27,
   "id": "42a7e870",
   "metadata": {},
   "outputs": [
    {
     "name": "stdout",
     "output_type": "stream",
     "text": [
      "enter the line of text:\n",
      "i'm eman i want to get a scholarship just for my baba because he will become happy and when happy me happy so i'll do whatever i can please ALLAH G help me to achieve my goals 'i'm nothing without you n your help \n",
      "words: [\"i'm\", 'eman', 'i', 'want', 'to', 'get', 'a', 'scholarship', 'just', 'for', 'my', 'baba', 'because', 'he', 'will', 'become', 'happy', 'and', 'when', 'happy', 'me', 'happy', 'so', \"i'll\", 'do', 'whatever', 'i', 'can', 'please', 'ALLAH', 'G', 'help', 'me', 'to', 'achieve', 'my', 'goals', \"'i'm\", 'nothing', 'without', 'you', 'n', 'your', 'help']\n",
      "counting....\n",
      "counts {\"i'm\": 1, 'eman': 1, 'i': 2, 'want': 1, 'to': 2, 'get': 1, 'a': 1, 'scholarship': 1, 'just': 1, 'for': 1, 'my': 2, 'baba': 1, 'because': 1, 'he': 1, 'will': 1, 'become': 1, 'happy': 3, 'and': 1, 'when': 1, 'me': 2, 'so': 1, \"i'll\": 1, 'do': 1, 'whatever': 1, 'can': 1, 'please': 1, 'ALLAH': 1, 'G': 1, 'help': 2, 'achieve': 1, 'goals': 1, \"'i'm\": 1, 'nothing': 1, 'without': 1, 'you': 1, 'n': 1, 'your': 1}\n"
     ]
    }
   ],
   "source": [
    "# counting patterns\n",
    "counts=dict()\n",
    "print(\"enter the line of text:\")\n",
    "line=input('')\n",
    "words=line.split()\n",
    "print('words:',words)\n",
    "print('counting....')\n",
    "for word in words:\n",
    "    counts[word]=counts.get(word,0)+1\n",
    "print('counts',counts)"
   ]
  },
  {
   "cell_type": "markdown",
   "id": "ca2ca85b",
   "metadata": {},
   "source": [
    "## Example7"
   ]
  },
  {
   "cell_type": "code",
   "execution_count": 29,
   "id": "bc6aa70a",
   "metadata": {},
   "outputs": [
    {
     "name": "stdout",
     "output_type": "stream",
     "text": [
      "chunck 1\n",
      "fred 42\n",
      "jan 100\n"
     ]
    }
   ],
   "source": [
    "counts={'chunck':1,'fred':42,'jan':100}\n",
    "for key in counts:\n",
    "    print(key,counts[key])\n"
   ]
  },
  {
   "cell_type": "markdown",
   "id": "8cb588a2",
   "metadata": {},
   "source": [
    "## Example8"
   ]
  },
  {
   "cell_type": "code",
   "execution_count": 30,
   "id": "0bb17471",
   "metadata": {},
   "outputs": [
    {
     "name": "stdout",
     "output_type": "stream",
     "text": [
      "['chunck', 'fred', 'jan']\n"
     ]
    }
   ],
   "source": [
    "#Retrieving Lists of Keys and Values\n",
    "counts={'chunck':1,'fred':42,'jan':100}\n",
    "print(list(counts))"
   ]
  },
  {
   "cell_type": "code",
   "execution_count": 31,
   "id": "e3b6fd28",
   "metadata": {},
   "outputs": [
    {
     "name": "stdout",
     "output_type": "stream",
     "text": [
      "dict_keys(['chunck', 'fred', 'jan'])\n"
     ]
    }
   ],
   "source": [
    "print(counts.keys())"
   ]
  },
  {
   "cell_type": "code",
   "execution_count": 33,
   "id": "29e31d77",
   "metadata": {},
   "outputs": [
    {
     "name": "stdout",
     "output_type": "stream",
     "text": [
      "dict_values([1, 42, 100])\n"
     ]
    }
   ],
   "source": [
    "print(counts.values())"
   ]
  },
  {
   "cell_type": "code",
   "execution_count": 34,
   "id": "a2fbb609",
   "metadata": {},
   "outputs": [
    {
     "name": "stdout",
     "output_type": "stream",
     "text": [
      "dict_items([('chunck', 1), ('fred', 42), ('jan', 100)])\n"
     ]
    }
   ],
   "source": [
    "print(counts.items())"
   ]
  },
  {
   "cell_type": "markdown",
   "id": "5d778075",
   "metadata": {},
   "source": [
    "## Example9"
   ]
  },
  {
   "cell_type": "code",
   "execution_count": 35,
   "id": "1f1381db",
   "metadata": {},
   "outputs": [
    {
     "name": "stdout",
     "output_type": "stream",
     "text": [
      "chunck 1\n",
      "fred 42\n",
      "jan 100\n"
     ]
    }
   ],
   "source": [
    "counts={'chunck':1,'fred':42,'jan':100}\n",
    "for a,b in counts.items():\n",
    "    print(a,b)"
   ]
  },
  {
   "cell_type": "code",
   "execution_count": null,
   "id": "651b53d7",
   "metadata": {},
   "outputs": [],
   "source": []
  }
 ],
 "metadata": {
  "kernelspec": {
   "display_name": "Python 3 (ipykernel)",
   "language": "python",
   "name": "python3"
  },
  "language_info": {
   "codemirror_mode": {
    "name": "ipython",
    "version": 3
   },
   "file_extension": ".py",
   "mimetype": "text/x-python",
   "name": "python",
   "nbconvert_exporter": "python",
   "pygments_lexer": "ipython3",
   "version": "3.9.13"
  }
 },
 "nbformat": 4,
 "nbformat_minor": 5
}
